{
  "nbformat": 4,
  "nbformat_minor": 0,
  "metadata": {
    "colab": {
      "provenance": []
    },
    "kernelspec": {
      "name": "python3",
      "display_name": "Python 3"
    },
    "language_info": {
      "name": "python"
    }
  },
  "cells": [
    {
      "cell_type": "markdown",
      "source": [
        "<h1> Familiar Functions </h1>"
      ],
      "metadata": {
        "id": "SaNV2-f2Ivi2"
      }
    },
    {
      "cell_type": "markdown",
      "source": [
        "Use print() in combination with type() to print out the type of var1. <br>\n",
        "Use len() to get the length of the list var1. Wrap it in a print() call to directly print it out. <br>\n",
        "Use int() to convert var2 to an integer. Store the output as out2."
      ],
      "metadata": {
        "id": "Nt11sNJkIvXr"
      }
    },
    {
      "cell_type": "code",
      "source": [
        "# Create variables var1 and var2\n",
        "var1 = [1, 2, 3, 4]\n",
        "var2 = True\n",
        "\n",
        "# Print out type of var1\n",
        "print(type(var1))\n",
        "\n",
        "# Print out length of var1\n",
        "print(len(var1))\n",
        "\n",
        "# Convert var2 to an integer: out2\n",
        "out2 = int(var2)"
      ],
      "metadata": {
        "colab": {
          "base_uri": "https://localhost:8080/"
        },
        "id": "hkMTaHcoIwSp",
        "outputId": "6e1781de-6ef2-4fd9-943d-9320d2f355ea"
      },
      "execution_count": 7,
      "outputs": [
        {
          "output_type": "stream",
          "name": "stdout",
          "text": [
            "<class 'list'>\n",
            "4\n"
          ]
        }
      ]
    },
    {
      "cell_type": "markdown",
      "source": [
        "<h1> Multiple Arguments </h1>"
      ],
      "metadata": {
        "id": "rL2X72DxGFdJ"
      }
    },
    {
      "cell_type": "markdown",
      "source": [
        "Use + to merge the contents of first and second into a new list: full. <br>\n",
        "Call sorted() on full and specify the reverse argument to be True. Save the sorted list as full_sorted. <br>\n",
        "Finish off by printing out full_sorted."
      ],
      "metadata": {
        "id": "AJtLq3GBGFlW"
      }
    },
    {
      "cell_type": "code",
      "source": [
        "# Create lists first and second\n",
        "first = [11.25, 18.0, 20.0]\n",
        "second = [10.75, 9.50]\n",
        "\n",
        "# Paste together first and second: full\n",
        "full = first + second\n",
        "\n",
        "# Sort full in descending order: full_sorted\n",
        "full_sorted = sorted(full,reverse = True)\n",
        "\n",
        "# Print out full_sorted\n",
        "print(full_sorted)"
      ],
      "metadata": {
        "colab": {
          "base_uri": "https://localhost:8080/"
        },
        "id": "ebSUjIBfGFts",
        "outputId": "68920bbc-769b-4d97-c8b8-65db86409412"
      },
      "execution_count": 1,
      "outputs": [
        {
          "output_type": "stream",
          "name": "stdout",
          "text": [
            "[20.0, 18.0, 11.25, 10.75, 9.5]\n"
          ]
        }
      ]
    },
    {
      "cell_type": "markdown",
      "source": [
        "<h1> String Methods </h1>"
      ],
      "metadata": {
        "id": "0buWNOOJGF3U"
      }
    },
    {
      "cell_type": "markdown",
      "source": [
        "Use the upper() method on place and store the result in place_up. <br>\n",
        "Print out place and place_up. Did both change? <br>\n",
        "Print out the number of o's on the variable place by calling count() on place and passing the letter 'o' as an input to the method. We're talking about the variable place, not the word \"place\"!"
      ],
      "metadata": {
        "id": "yJUPnE16GF7k"
      }
    },
    {
      "cell_type": "code",
      "source": [
        "# string to experiment with: place\n",
        "place = \"poolhouse\"\n",
        "\n",
        "# Use upper() on place: place_up\n",
        "place_up = place.upper()\n",
        "\n",
        "# Print out place and place_up\n",
        "print(place)\n",
        "print(place_up)\n",
        "# Print out the number of o's in place\n",
        "print(place.count('o'))"
      ],
      "metadata": {
        "colab": {
          "base_uri": "https://localhost:8080/"
        },
        "id": "4XXH1w-oGGC5",
        "outputId": "7d66016a-e489-421f-baa0-10b8de725242"
      },
      "execution_count": 2,
      "outputs": [
        {
          "output_type": "stream",
          "name": "stdout",
          "text": [
            "poolhouse\n",
            "POOLHOUSE\n",
            "3\n"
          ]
        }
      ]
    },
    {
      "cell_type": "markdown",
      "source": [
        "<h1> List Methods </h1>"
      ],
      "metadata": {
        "id": "DFwGx_65GGK1"
      }
    },
    {
      "cell_type": "markdown",
      "source": [
        "Use the index() method to get the index of the element in areas that is equal to 20.0. Print out this index. <br>\n",
        "Call count() on areas to find out how many times 9.50 appears in the list. Again, simply print out this number."
      ],
      "metadata": {
        "id": "NDWfclKQGGNu"
      }
    },
    {
      "cell_type": "code",
      "source": [
        "# Create list areas\n",
        "areas = [11.25, 18.0, 20.0, 10.75, 9.50]\n",
        "\n",
        "# Print out the index of the element 20.0\n",
        "print(areas.index(20.0))\n",
        "\n",
        "# Print out how often 9.50 appears in areas\n",
        "print(areas.count(9.50))\n"
      ],
      "metadata": {
        "colab": {
          "base_uri": "https://localhost:8080/"
        },
        "id": "Qr-kpoD8GGUg",
        "outputId": "a221b780-6524-47d9-e09c-0ed58d872d83"
      },
      "execution_count": 3,
      "outputs": [
        {
          "output_type": "stream",
          "name": "stdout",
          "text": [
            "2\n",
            "1\n"
          ]
        }
      ]
    },
    {
      "cell_type": "markdown",
      "source": [
        "<h1> List Methods (2) </h1>"
      ],
      "metadata": {
        "id": "gcVHJ2wKGGck"
      }
    },
    {
      "cell_type": "markdown",
      "source": [
        "Use append() twice to add the size of the poolhouse and the garage again: 24.5 and 15.45, respectively. Make sure to add them in this order. <br>\n",
        "Print out areas <br>\n",
        "Use the reverse() method to reverse the order of the elements in areas.<br>\n",
        "Print out areas once more. "
      ],
      "metadata": {
        "id": "N9OO58s9GGfN"
      }
    },
    {
      "cell_type": "code",
      "source": [
        "# Create list areas\n",
        "areas = [11.25, 18.0, 20.0, 10.75, 9.50]\n",
        "\n",
        "# Use append twice to add poolhouse and garage size\n",
        "areas.append(24.5)\n",
        "areas.append(15.45)\n",
        "\n",
        "# Print out areas\n",
        "print(areas)\n",
        "\n",
        "# Reverse the orders of the elements in areas\n",
        "areas.reverse()\n",
        "\n",
        "# Print out areas\n",
        "print(areas)"
      ],
      "metadata": {
        "colab": {
          "base_uri": "https://localhost:8080/"
        },
        "id": "KemYXSAdGGmO",
        "outputId": "a4a681c6-cd3b-43b5-eb3c-013dd03b94ea"
      },
      "execution_count": 4,
      "outputs": [
        {
          "output_type": "stream",
          "name": "stdout",
          "text": [
            "[11.25, 18.0, 20.0, 10.75, 9.5, 24.5, 15.45]\n",
            "[15.45, 24.5, 9.5, 10.75, 20.0, 18.0, 11.25]\n"
          ]
        }
      ]
    },
    {
      "cell_type": "markdown",
      "source": [
        "<h1> import Package </h1>"
      ],
      "metadata": {
        "id": "ElE9cYfKGGxg"
      }
    },
    {
      "cell_type": "markdown",
      "source": [
        "C = 2πr, A = πr^2\n",
        "<br>\n",
        "Import the math package. Now you can access the constant pi with math.pi. <br>\n",
        "Calculate the circumference of the circle and store it in C. <br>\n",
        "Calculate the area of the circle and store it in A."
      ],
      "metadata": {
        "id": "nQzeYJYvGHb9"
      }
    },
    {
      "cell_type": "code",
      "source": [
        "# Definition of radius\n",
        "r = 0.43\n",
        "\n",
        "# Import the math package\n",
        "import math\n",
        "\n",
        "# Calculate C\n",
        "C = 2*(math.pi*r)\n",
        "\n",
        "# Calculate A\n",
        "A = (math.pi*r**2)\n",
        "\n",
        "# Build printout\n",
        "print(\"Circumference: \" + str(C))\n",
        "print(\"Area: \" + str(A))"
      ],
      "metadata": {
        "colab": {
          "base_uri": "https://localhost:8080/"
        },
        "id": "4587d1uRGHiv",
        "outputId": "443b88ce-e756-469e-85c0-3088aa7effd8"
      },
      "execution_count": 5,
      "outputs": [
        {
          "output_type": "stream",
          "name": "stdout",
          "text": [
            "Circumference: 2.701769682087222\n",
            "Area: 0.5808804816487527\n"
          ]
        }
      ]
    },
    {
      "cell_type": "markdown",
      "source": [
        "<h1> Selective Import </h1>"
      ],
      "metadata": {
        "id": "5tzXK7vLGH6b"
      }
    },
    {
      "cell_type": "markdown",
      "source": [
        "Perform a selective import from the math package where you only import the radians function. <br>\n",
        "Calculate the distance travelled by the Moon over 12 degrees of its orbit. Assign the result to dist. You can calculate this as r * phi, where r is the radius and phi is the angle in radians. To convert an angle in degrees to an angle in radians, use the radians() function, which you just imported. <br>\n",
        "Print out dist."
      ],
      "metadata": {
        "id": "cZWUbHRlGH9l"
      }
    },
    {
      "cell_type": "code",
      "source": [
        "# Definition of radius\n",
        "r = 192500\n",
        "\n",
        "# Import radians function of math package\n",
        "from math import radians\n",
        "\n",
        "# Travel distance of Moon over 12 degrees. Store in dist.\n",
        "dist = r*radians(12)\n",
        "\n",
        "# Print out dist\n",
        "print(dist)"
      ],
      "metadata": {
        "colab": {
          "base_uri": "https://localhost:8080/"
        },
        "id": "erD-aFH1GIH8",
        "outputId": "464646d4-d1cb-4ff4-bad3-d390384d643b"
      },
      "execution_count": 6,
      "outputs": [
        {
          "output_type": "stream",
          "name": "stdout",
          "text": [
            "40317.10572106901\n"
          ]
        }
      ]
    },
    {
      "cell_type": "code",
      "source": [],
      "metadata": {
        "id": "YaaMo1fSHXxa"
      },
      "execution_count": null,
      "outputs": []
    }
  ]
}
