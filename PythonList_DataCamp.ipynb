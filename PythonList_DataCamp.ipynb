{
  "nbformat": 4,
  "nbformat_minor": 0,
  "metadata": {
    "colab": {
      "provenance": []
    },
    "kernelspec": {
      "name": "python3",
      "display_name": "Python 3"
    },
    "language_info": {
      "name": "python"
    }
  },
  "cells": [
    {
      "cell_type": "markdown",
      "source": [
        "<h1>Creating List</h1>"
      ],
      "metadata": {
        "id": "vUHkWMCyDF3c"
      }
    },
    {
      "cell_type": "markdown",
      "source": [
        "Create a list, areas, that contains : <br> The area of the hallway (hall), kitchen (kit), living room (liv), bedroom (bed) and bathroom (bath), in this order. Use the predefined variables. <br>\n",
        "Print areas with the print() function."
      ],
      "metadata": {
        "id": "EQqQ49a4DMMB"
      }
    },
    {
      "cell_type": "code",
      "source": [
        "# area variables (in square meters)\n",
        "hall = 11.25\n",
        "kit = 18.0\n",
        "liv = 20.0\n",
        "bed = 10.75\n",
        "bath = 9.50\n",
        "\n",
        "# Create list areas\n",
        "areas = [hall,kit,liv,bed,bath]\n",
        "\n",
        "# Print areas\n",
        "print(areas)\n"
      ],
      "metadata": {
        "colab": {
          "base_uri": "https://localhost:8080/"
        },
        "id": "9oda3GZlDLZc",
        "outputId": "9802f861-ec7f-4fb5-8000-24c8b693ce5d"
      },
      "execution_count": 1,
      "outputs": [
        {
          "output_type": "stream",
          "name": "stdout",
          "text": [
            "[11.25, 18.0, 20.0, 10.75, 9.5]\n"
          ]
        }
      ]
    },
    {
      "cell_type": "markdown",
      "source": [
        "<h1> Create a list with different types </h1>"
      ],
      "metadata": {
        "id": "V7z6kzF3E5D0"
      }
    },
    {
      "cell_type": "markdown",
      "source": [
        "Finish the code that creates the areas list. Build the list so that the list first contains the name of each room as a string and then its area. In other words, add the strings \"hallway\", \"kitchen\" and \"bedroom\" at the appropriate locations. <br>\n",
        "Print areas again; is the printout more informative this time?"
      ],
      "metadata": {
        "id": "74EGtdKzDnMS"
      }
    },
    {
      "cell_type": "code",
      "source": [
        "# area variables (in square meters)\n",
        "hall = 11.25\n",
        "kit = 18.0\n",
        "liv = 20.0\n",
        "bed = 10.75\n",
        "bath = 9.50\n",
        "\n",
        "# Adapt list areas\n",
        "areas = [\"hallway\", hall, \"kitchen\", kit, \"living room\", liv,\"bedroom\", bed, \"bathroom\", bath]\n",
        "\n",
        "# Print areas\n",
        "print(areas)"
      ],
      "metadata": {
        "colab": {
          "base_uri": "https://localhost:8080/"
        },
        "id": "KBhH9r9cDgXs",
        "outputId": "129c9936-756c-442f-cf9b-de55b2136502"
      },
      "execution_count": 2,
      "outputs": [
        {
          "output_type": "stream",
          "name": "stdout",
          "text": [
            "['hallway', 11.25, 'kitchen', 18.0, 'living room', 20.0, 'bedroom', 10.75, 'bathroom', 9.5]\n"
          ]
        }
      ]
    },
    {
      "cell_type": "markdown",
      "source": [
        "<h1> List of Lists </h1>"
      ],
      "metadata": {
        "id": "VL_fXYIhFDap"
      }
    },
    {
      "cell_type": "markdown",
      "source": [
        "Finish the list of lists so that it also contains the bedroom and bathroom data. Make sure you enter these in order! <br>\n",
        "Print out house; does this way of structuring your data make more sense? <br>\n",
        "Print out the type of house. Are you still dealing with a list?"
      ],
      "metadata": {
        "id": "rGhHhSXKDz3f"
      }
    },
    {
      "cell_type": "code",
      "source": [
        "# area variables (in square meters)\n",
        "hall = 11.25\n",
        "kit = 18.0\n",
        "liv = 20.0\n",
        "bed = 10.75\n",
        "bath = 9.50\n",
        "\n",
        "# house information as list of lists\n",
        "house = [[\"hallway\", hall],\n",
        "         [\"kitchen\", kit],\n",
        "         [\"living room\", liv],\n",
        "         [\"bedroom\", bed],\n",
        "         [\"bathroom\", bath]]\n",
        "\n",
        "# Print out house\n",
        "print(house)\n",
        "\n",
        "# Print out the type of house\n",
        "print(type(house))"
      ],
      "metadata": {
        "colab": {
          "base_uri": "https://localhost:8080/"
        },
        "id": "R5ibTITQDrL0",
        "outputId": "54260916-72fd-4058-ceb2-8f9a5b25abb5"
      },
      "execution_count": 3,
      "outputs": [
        {
          "output_type": "stream",
          "name": "stdout",
          "text": [
            "[['hallway', 11.25], ['kitchen', 18.0], ['living room', 20.0], ['bedroom', 10.75], ['bathroom', 9.5]]\n",
            "<class 'list'>\n"
          ]
        }
      ]
    },
    {
      "cell_type": "markdown",
      "source": [
        "<h1> Subset and Conquer </h1>"
      ],
      "metadata": {
        "id": "TMf7jx2UFImz"
      }
    },
    {
      "cell_type": "markdown",
      "source": [
        "Print out the second element from the areas list (it has the value 11.25).\n",
        "Subset and print out the last element of areas, being 9.50. Using a negative index makes sense here! <br>\n",
        "Select the number representing the area of the living room (20.0) and print it out."
      ],
      "metadata": {
        "id": "ErE8p9twD9KY"
      }
    },
    {
      "cell_type": "code",
      "source": [
        "# Create the areas list\n",
        "areas = [\"hallway\", 11.25, \"kitchen\", 18.0, \"living room\", 20.0, \"bedroom\", 10.75, \"bathroom\", 9.50]\n",
        "\n",
        "# Print out second element from areas\n",
        "print(areas[1])\n",
        "\n",
        "# Print out last element from areas\n",
        "print(areas[-1])\n",
        "\n",
        "# Print out the area of the living room\n",
        "print(areas[5])"
      ],
      "metadata": {
        "colab": {
          "base_uri": "https://localhost:8080/"
        },
        "id": "qjGF-pB-D39v",
        "outputId": "ae4eb5fd-5618-49bd-877c-0557197f5073"
      },
      "execution_count": 4,
      "outputs": [
        {
          "output_type": "stream",
          "name": "stdout",
          "text": [
            "11.25\n",
            "9.5\n",
            "20.0\n"
          ]
        }
      ]
    },
    {
      "cell_type": "markdown",
      "source": [
        "<h1> Subset and calculate </h1>"
      ],
      "metadata": {
        "id": "Do90dgDMFMOD"
      }
    },
    {
      "cell_type": "markdown",
      "source": [
        "Using a combination of list subsetting and variable assignment, create a new variable, eat_sleep_area, that contains the sum of the area of the kitchen and the area of the bedroom. <br>\n",
        "Print the new variable eat_sleep_area."
      ],
      "metadata": {
        "id": "ydQwoodUEFYu"
      }
    },
    {
      "cell_type": "code",
      "source": [
        "# Create the areas list\n",
        "areas = [\"hallway\", 11.25, \"kitchen\", 18.0, \"living room\", 20.0, \"bedroom\", 10.75, \"bathroom\", 9.50]\n",
        "\n",
        "# Sum of kitchen and bedroom area: eat_sleep_area\n",
        "eat_sleep_area = areas[3] + areas[7]\n",
        "\n",
        "# Print the variable eat_sleep_area\n",
        "print(eat_sleep_area)"
      ],
      "metadata": {
        "colab": {
          "base_uri": "https://localhost:8080/"
        },
        "id": "ndH6y8SjEAlS",
        "outputId": "77f15ef8-6ebe-40bc-8e7d-acc4a79e0250"
      },
      "execution_count": 5,
      "outputs": [
        {
          "output_type": "stream",
          "name": "stdout",
          "text": [
            "28.75\n"
          ]
        }
      ]
    },
    {
      "cell_type": "markdown",
      "source": [
        "<h1> Slicing and Dicing </h1>"
      ],
      "metadata": {
        "id": "fPD-9VO2FQNy"
      }
    },
    {
      "cell_type": "markdown",
      "source": [
        "Use slicing to create a list, downstairs, that contains the first 6 elements of areas. <br>\n",
        "Do a similar thing to create a new variable, upstairs, that contains the last 4 elements of areas. <br>\n",
        "Print both downstairs and upstairs using print()."
      ],
      "metadata": {
        "id": "sD8w9RxcERIR"
      }
    },
    {
      "cell_type": "code",
      "source": [
        "# Create the areas list\n",
        "areas = [\"hallway\", 11.25, \"kitchen\", 18.0, \"living room\", 20.0, \"bedroom\", 10.75, \"bathroom\", 9.50]\n",
        "\n",
        "# Use slicing to create downstairs\n",
        "downstairs = areas[0:6]\n",
        "\n",
        "# Use slicing to create upstairs\n",
        "upstairs = areas[6:]\n",
        "\n",
        "# Print out downstairs and upstairs\n",
        "print(downstairs)\n",
        "print(upstairs)"
      ],
      "metadata": {
        "id": "MEApcGUTEIEp",
        "colab": {
          "base_uri": "https://localhost:8080/"
        },
        "outputId": "d43379cd-fdae-4dd8-b98c-a2149cd9d0d8"
      },
      "execution_count": 6,
      "outputs": [
        {
          "output_type": "stream",
          "name": "stdout",
          "text": [
            "['hallway', 11.25, 'kitchen', 18.0, 'living room', 20.0]\n",
            "['bedroom', 10.75, 'bathroom', 9.5]\n"
          ]
        }
      ]
    },
    {
      "cell_type": "markdown",
      "source": [
        "<h1> Slicing and Dicing (2) </h1>"
      ],
      "metadata": {
        "id": "pF2MZUtAFT5U"
      }
    },
    {
      "cell_type": "markdown",
      "source": [
        "Create downstairs again, as the first 6 elements of areas. This time, simplify the slicing by omitting the begin index. <br>\n",
        "Create upstairs again, as the last 4 elements of areas. This time, simplify the slicing by omitting the end index. <br>"
      ],
      "metadata": {
        "id": "BgbUY1bFEV2f"
      }
    },
    {
      "cell_type": "code",
      "source": [
        "# Create the areas list\n",
        "areas = [\"hallway\", 11.25, \"kitchen\", 18.0, \"living room\", 20.0, \"bedroom\", 10.75, \"bathroom\", 9.50]\n",
        "\n",
        "# Alternative slicing to create downstairs\n",
        "downstairs = areas[0:6]\n",
        "\n",
        "# Alternative slicing to create upstairs\n",
        "upstairs = areas[6:]"
      ],
      "metadata": {
        "id": "wuD-9byREVID"
      },
      "execution_count": 7,
      "outputs": []
    },
    {
      "cell_type": "markdown",
      "source": [
        "<h1> Replace List Elements </h1>"
      ],
      "metadata": {
        "id": "PvvJhyW6FXgB"
      }
    },
    {
      "cell_type": "markdown",
      "source": [
        "Update the area of the bathroom area to be 10.50 square meters instead of 9.50. <br>\n",
        "Make the areas list more trendy! Change \"living room\" to \"chill zone\"."
      ],
      "metadata": {
        "id": "-VXD9gEFEcEU"
      }
    },
    {
      "cell_type": "code",
      "source": [
        "# Create the areas list\n",
        "areas = [\"hallway\", 11.25, \"kitchen\", 18.0, \"living room\", 20.0, \"bedroom\", 10.75, \"bathroom\", 9.50]\n",
        "\n",
        "# Correct the bathroom area\n",
        "areas[-1] = 10.50\n",
        "\n",
        "# Change \"living room\" to \"chill zone\"\n",
        "areas[4] = \"chill zone\""
      ],
      "metadata": {
        "id": "2Vdlc3BoEgxW"
      },
      "execution_count": 9,
      "outputs": []
    },
    {
      "cell_type": "markdown",
      "source": [
        "<h1> Extend a List </h1>"
      ],
      "metadata": {
        "id": "cMXcS8goFbsO"
      }
    },
    {
      "cell_type": "markdown",
      "source": [
        "Use the + operator to paste the list [\"poolhouse\", 24.5] to the end of the areas list. Store the resulting list as areas_1. <br>\n",
        "Further extend areas_1 by adding data on your garage. Add the string \"garage\" and float 15.45. Name the resulting list areas_2."
      ],
      "metadata": {
        "id": "bwgZsrHoEm7V"
      }
    },
    {
      "cell_type": "code",
      "source": [
        "# Create the areas list and make some changes\n",
        "areas = [\"hallway\", 11.25, \"kitchen\", 18.0, \"chill zone\", 20.0,\n",
        "         \"bedroom\", 10.75, \"bathroom\", 10.50]\n",
        "\n",
        "# Add poolhouse data to areas, new list is areas_1\n",
        "areas_1 = areas + [\"poolhouse\", 24.5]\n",
        "\n",
        "# Add garage data to areas_1, new list is areas_2\n",
        "areas_2 = areas_1 + [\"garage\", 15.45]"
      ],
      "metadata": {
        "id": "vR8OQWXuEiHM"
      },
      "execution_count": 10,
      "outputs": []
    },
    {
      "cell_type": "markdown",
      "source": [
        "<h1> Inner Working of List </h1>"
      ],
      "metadata": {
        "id": "E4FtwNf1Felb"
      }
    },
    {
      "cell_type": "markdown",
      "source": [
        "Change the second command, that creates the variable areas_copy, such that areas_copy is an explicit copy of areas. After your edit, changes made to areas_copy shouldn't affect areas. Submit the answer to check this."
      ],
      "metadata": {
        "id": "G9MnFzYXEvhR"
      }
    },
    {
      "cell_type": "code",
      "source": [
        "# Create list areas\n",
        "areas = [11.25, 18.0, 20.0, 10.75, 9.50]\n",
        "\n",
        "# Create areas_copy\n",
        "areas_copy = list(areas)\n",
        "\n",
        "# Change areas_copy\n",
        "areas_copy[0] = 5.0\n",
        "\n",
        "# Print areas\n",
        "print(areas)"
      ],
      "metadata": {
        "colab": {
          "base_uri": "https://localhost:8080/"
        },
        "id": "BnFgY77GEr2Z",
        "outputId": "dfe5a5ef-013a-4793-a680-a34779a6018b"
      },
      "execution_count": 11,
      "outputs": [
        {
          "output_type": "stream",
          "name": "stdout",
          "text": [
            "[11.25, 18.0, 20.0, 10.75, 9.5]\n"
          ]
        }
      ]
    },
    {
      "cell_type": "code",
      "source": [],
      "metadata": {
        "id": "4Mpv2pY-E0VZ"
      },
      "execution_count": null,
      "outputs": []
    }
  ]
}
