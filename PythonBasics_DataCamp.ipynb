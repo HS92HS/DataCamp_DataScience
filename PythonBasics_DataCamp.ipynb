{
  "nbformat": 4,
  "nbformat_minor": 0,
  "metadata": {
    "colab": {
      "provenance": []
    },
    "kernelspec": {
      "name": "python3",
      "display_name": "Python 3"
    },
    "language_info": {
      "name": "python"
    }
  },
  "cells": [
    {
      "cell_type": "markdown",
      "source": [
        "print(7 + 10)."
      ],
      "metadata": {
        "id": "qOwGh6K5_gIH"
      }
    },
    {
      "cell_type": "code",
      "source": [
        "# Print the sum of 7 and 10\n",
        "print(7+10)"
      ],
      "metadata": {
        "colab": {
          "base_uri": "https://localhost:8080/"
        },
        "id": "KKN7VBDe_kwY",
        "outputId": "54899a83-63c5-42e6-a2b3-21fd4f86560e"
      },
      "execution_count": 1,
      "outputs": [
        {
          "output_type": "stream",
          "name": "stdout",
          "text": [
            "17\n"
          ]
        }
      ]
    },
    {
      "cell_type": "markdown",
      "source": [
        "Above the print(7 + 10), add the comment"
      ],
      "metadata": {
        "id": "9PvwgPCbAOY_"
      }
    },
    {
      "cell_type": "code",
      "source": [
        "# Sum\n",
        "print(7 + 10)"
      ],
      "metadata": {
        "colab": {
          "base_uri": "https://localhost:8080/"
        },
        "id": "nHnRniFNAOzC",
        "outputId": "17b46d91-977f-4529-ca28-af0a86707efa"
      },
      "execution_count": 2,
      "outputs": [
        {
          "output_type": "stream",
          "name": "stdout",
          "text": [
            "17\n"
          ]
        }
      ]
    },
    {
      "cell_type": "markdown",
      "source": [
        "Change the values of the numbers shown to see how Python performs addition and subtraction. <br>\n",
        "Change the values of the numbers shown to see how multiplication, division, modulo, and exponentiation works in Python. <br>\n",
        "Calculate and print 2 to the power of 5."
      ],
      "metadata": {
        "id": "XuTWAKTgARca"
      }
    },
    {
      "cell_type": "code",
      "source": [
        "# Addition, subtraction\n",
        "print(5 + 5)\n",
        "print(5 - 5)\n",
        "\n",
        "# Multiplication, division, modulo, and exponentiation\n",
        "print(3 * 5)\n",
        "print(10 / 2)\n",
        "print(18 % 7)\n",
        "print(4 ** 2)\n",
        "\n",
        "# How much is your $100 worth after 7 years?\n",
        "print(100*1.1**7)"
      ],
      "metadata": {
        "colab": {
          "base_uri": "https://localhost:8080/"
        },
        "id": "oLCiVuhtAR3J",
        "outputId": "5791fc6f-3769-4b1d-a887-a1ccfe4eb394"
      },
      "execution_count": 3,
      "outputs": [
        {
          "output_type": "stream",
          "name": "stdout",
          "text": [
            "10\n",
            "0\n",
            "15\n",
            "5.0\n",
            "4\n",
            "16\n",
            "194.87171000000012\n"
          ]
        }
      ]
    },
    {
      "cell_type": "markdown",
      "source": [
        "Create a variable savings with the value 100. <br>\n",
        "Check out this variable by typing print(savings) in the script."
      ],
      "metadata": {
        "id": "LZ0Cdp3YASEG"
      }
    },
    {
      "cell_type": "code",
      "source": [
        "# Create a variable savings\n",
        "savings = 100\n",
        "\n",
        "# Print out savings\n",
        "print(savings)"
      ],
      "metadata": {
        "colab": {
          "base_uri": "https://localhost:8080/"
        },
        "id": "HRZQGWEYASN-",
        "outputId": "28316a66-8c33-49ef-dcd3-e34225c7ea44"
      },
      "execution_count": 4,
      "outputs": [
        {
          "output_type": "stream",
          "name": "stdout",
          "text": [
            "100\n"
          ]
        }
      ]
    },
    {
      "cell_type": "markdown",
      "source": [
        "Create a variable growth_multiplier, equal to 1.1 <br>\n",
        "Create a variable, result, equal to the amount of money you saved after 7 years <br>\n",
        "Print out the value of result."
      ],
      "metadata": {
        "id": "GY1rbwHFASZW"
      }
    },
    {
      "cell_type": "code",
      "source": [
        "# Create a variable savings\n",
        "savings = 100\n",
        "\n",
        "# Create a variable growth_multiplier\n",
        "growth_multiplier = 1.1\n",
        "\n",
        "# Calculate result\n",
        "result = savings*growth_multiplier**7\n",
        "\n",
        "# Print out result\n",
        "print(result)"
      ],
      "metadata": {
        "colab": {
          "base_uri": "https://localhost:8080/"
        },
        "id": "jQDNFzs7AShD",
        "outputId": "74082854-d492-46ba-9a72-32a4da284ac8"
      },
      "execution_count": 5,
      "outputs": [
        {
          "output_type": "stream",
          "name": "stdout",
          "text": [
            "194.87171000000012\n"
          ]
        }
      ]
    },
    {
      "cell_type": "markdown",
      "source": [
        "Create a new string, desc, with the value \"compound interest\". <br>\n",
        "Create a new boolean, profitable, with the value True."
      ],
      "metadata": {
        "id": "pqT-rwZMAS0e"
      }
    },
    {
      "cell_type": "code",
      "source": [
        "# Create a variable desc\n",
        "desc = \"compound interest\"\n",
        "\n",
        "\n",
        "# Create a variable profitable\n",
        "profitable = True"
      ],
      "metadata": {
        "id": "bNQ52dGXAS7-"
      },
      "execution_count": 6,
      "outputs": []
    },
    {
      "cell_type": "markdown",
      "source": [
        "Calculate the product of savings and growth_multiplier. Store the result in year1. <br>\n",
        "What do you think the resulting type will be? Find out by printing out the type of year1.<br>\n",
        "Calculate the sum of desc and desc and store the result in a new variable doubledesc.<br>\n",
        "Print out doubledesc. Did you expect this?"
      ],
      "metadata": {
        "id": "OEOx3sRuBOrg"
      }
    },
    {
      "cell_type": "code",
      "source": [
        "savings = 100\n",
        "growth_multiplier = 1.1\n",
        "desc = \"compound interest\"\n",
        "\n",
        "# Assign product of savings and growth_multiplier to year1\n",
        "year1 = savings*growth_multiplier\n",
        "\n",
        "# Print the type of year1\n",
        "print(type(year1))\n",
        "\n",
        "# Assign sum of desc and desc to doubledesc\n",
        "doubledesc = desc + desc\n",
        "\n",
        "# Print out doubledesc\n",
        "print(doubledesc)"
      ],
      "metadata": {
        "colab": {
          "base_uri": "https://localhost:8080/"
        },
        "id": "AKH3rWadBT4g",
        "outputId": "2945051a-cd13-4c74-80b9-ba55f9f724c8"
      },
      "execution_count": 7,
      "outputs": [
        {
          "output_type": "stream",
          "name": "stdout",
          "text": [
            "<class 'float'>\n",
            "compound interestcompound interest\n"
          ]
        }
      ]
    },
    {
      "cell_type": "markdown",
      "source": [
        "Hit Run Code to run the code. Try to understand the error message. <br>\n",
        "Fix the code such that the printout runs without errors; use the function str() to convert the variables to strings. <br>\n",
        "Convert the variable pi_string to a float and store this float as a new variable, pi_float."
      ],
      "metadata": {
        "id": "MR-H7bYeBe8v"
      }
    },
    {
      "cell_type": "code",
      "source": [
        "# Definition of savings and result\n",
        "savings = 100\n",
        "result = 100 * 1.10 ** 7\n",
        "\n",
        "# Fix the printout\n",
        "print(\"I started with $\" + str(savings) + \" and now have $\" + str(result) + \". Awesome!\")\n",
        "\n",
        "# Definition of pi_string\n",
        "pi_string = \"3.1415926\"\n",
        "\n",
        "# Convert pi_string into float: pi_float\n",
        "pi_float = float(pi_string)"
      ],
      "metadata": {
        "id": "fBrcGSOIBfEe"
      },
      "execution_count": null,
      "outputs": []
    }
  ]
}